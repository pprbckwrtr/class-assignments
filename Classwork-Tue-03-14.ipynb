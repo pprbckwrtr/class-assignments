{
 "cells": [
  {
   "cell_type": "markdown",
   "metadata": {},
   "source": [
    "# Questions and comments for presenters\n",
    "\n",
    "    Kelsey Jiang\n",
    "    - What trends did you find? \n",
    "    - Any inferences?\n",
    "    Dominique Castro\n",
    "    - What is the signficance of the histogram?\n",
    "    Linna Shun\n",
    "    - Why such a huge loss of diversity?\n",
    "    - What are extinction rates correlated to?\n",
    "    - I liked the different variations of the same graphic\n",
    "    Ashen Parikh\n",
    "    - Reaction times?\n",
    "    - What do cooperation and defection refer to?\n",
    "    Matthew Muia\n",
    "    - Why would there be greater growth in the Chico area?\n",
    "    - Interesting that there will be both bootstrapping and t-test\n",
    "    Antonella Gonzalez\n",
    "    - Why might that Alligator mississipiensis species been in existence for so long?\n",
    "    Yee Chau\n",
    "    - Map of occurance data looked interesting\n",
    "    Kristen Lee\n",
    "    - What geological activity could have influenced movement of species up north?\n",
    "    Madison Downing\n",
    "    - What is the significance of the overlapping areas?\n",
    "    Youstina Salama\n",
    "    - Were trends in apes diversity correlated to any geological events?\n",
    "    Jeremy Wadowski\n",
    "    - Interesting data on VO2 max\n",
    "    - Isn't VO2 always below max?\n",
    "    Mehdi Nojoumi\n",
    "    - How can you weigh certain orders less (chickens, turkeys)?\n",
    "    Junghoon Kim\n",
    "    - Why do you leave cockroaches in dark for 12 hours?\n",
    "    Dustin Wong\n",
    "    - How closely are feliformia related to cats? \n",
    "    Hyein Kil\n",
    "    - Used PBDB in an interesting way by only using two species data of birds"
   ]
  },
  {
   "cell_type": "code",
   "execution_count": null,
   "metadata": {
    "collapsed": true
   },
   "outputs": [],
   "source": []
  }
 ],
 "metadata": {
  "anaconda-cloud": {},
  "kernelspec": {
   "display_name": "Python [default]",
   "language": "python",
   "name": "python3"
  },
  "language_info": {
   "codemirror_mode": {
    "name": "ipython",
    "version": 3
   },
   "file_extension": ".py",
   "mimetype": "text/x-python",
   "name": "python",
   "nbconvert_exporter": "python",
   "pygments_lexer": "ipython3",
   "version": "3.5.2"
  }
 },
 "nbformat": 4,
 "nbformat_minor": 2
}
