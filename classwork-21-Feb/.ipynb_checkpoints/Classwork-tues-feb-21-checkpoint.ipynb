{
 "cells": [
  {
   "cell_type": "markdown",
   "metadata": {},
   "source": [
    "# cocoli.txt\n",
    "\n",
    "What does each row represent? \n",
    "\n",
    "Each row is a single record of a tree. Columns include species code, multi2 = # of stems of trees at 1.3 cm during the 2nd census date (1994), dbh2 = diameter at breast height of biggest stem during 2nd census. "
   ]
  },
  {
   "cell_type": "markdown",
   "metadata": {},
   "source": [
    "# cocolisp.txt\n",
    "\n",
    "How do you find genus? \n",
    "\n",
    "Lists species codes and their corresonding scientific names. Can look up genus names. "
   ]
  },
  {
   "cell_type": "markdown",
   "metadata": {},
   "source": [
    "Individual 00001 growing\n",
    "Individual 000029 died"
   ]
  },
  {
   "cell_type": "markdown",
   "metadata": {},
   "source": [
    "# Interesting questions \n",
    "\n",
    "    Which locations have the trees with the highest lifespans, and rate of growth?\n",
    "    Which species have the highest rate of growth and the longest lifespan? \n",
    "    What is the relationship between diameter of tree and number of stems?\n",
    "    Which years had the highest growth rates?"
   ]
  },
  {
   "cell_type": "markdown",
   "metadata": {},
   "source": [
    "# Guided exploration of the data\n",
    "\n",
    "    Which genus is the most species-rich in this community? Piper\n",
    "    How many genera only have 1 species? 99\n",
    "    How many genera are there? 127"
   ]
  },
  {
   "cell_type": "markdown",
   "metadata": {},
   "source": [
    "# Pseudocode\n",
    "\n",
    "    import file \n",
    "    open file \n",
    "    split file on spaces and create a list\n",
    "    iterate through the lists subtracting dbh1 from dbh3 and dividing by dbh1\n"
   ]
  },
  {
   "cell_type": "code",
   "execution_count": null,
   "metadata": {
    "collapsed": true
   },
   "outputs": [],
   "source": []
  }
 ],
 "metadata": {
  "anaconda-cloud": {},
  "kernelspec": {
   "display_name": "Python [default]",
   "language": "python",
   "name": "python3"
  },
  "language_info": {
   "codemirror_mode": {
    "name": "ipython",
    "version": 3
   },
   "file_extension": ".py",
   "mimetype": "text/x-python",
   "name": "python",
   "nbconvert_exporter": "python",
   "pygments_lexer": "ipython3",
   "version": "3.5.2"
  }
 },
 "nbformat": 4,
 "nbformat_minor": 2
}
